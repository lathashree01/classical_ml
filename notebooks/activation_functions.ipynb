{
 "cells": [
  {
   "cell_type": "markdown",
   "id": "5013582b",
   "metadata": {},
   "source": [
    "# Implementation of Activation Functions from Scratch\n"
   ]
  },
  {
   "cell_type": "code",
   "execution_count": 1,
   "id": "cc0bd1c7",
   "metadata": {},
   "outputs": [],
   "source": [
    "import numpy as np"
   ]
  },
  {
   "cell_type": "markdown",
   "id": "b74819ae",
   "metadata": {},
   "source": [
    "# Sigmoid Activation Function"
   ]
  },
  {
   "cell_type": "code",
   "execution_count": null,
   "id": "5ba11c34",
   "metadata": {},
   "outputs": [],
   "source": [
    "def sigmoid( x):\n",
    "    return 1 / (1 + np.exp(-x))\n",
    "\n",
    "def sigmoid_derivative( x):\n",
    "    return sigmoid(x) * (1 - sigmoid(x))"
   ]
  },
  {
   "cell_type": "markdown",
   "id": "3a33cbaa",
   "metadata": {},
   "source": [
    "# Softmax Activation Function"
   ]
  },
  {
   "cell_type": "code",
   "execution_count": null,
   "id": "75d6049d",
   "metadata": {},
   "outputs": [],
   "source": []
  },
  {
   "cell_type": "code",
   "execution_count": null,
   "id": "55693d26",
   "metadata": {},
   "outputs": [],
   "source": []
  },
  {
   "cell_type": "markdown",
   "id": "2375261b",
   "metadata": {},
   "source": [
    "# RELU Activation Functions: simple RELU, Leaky RELU, GELU"
   ]
  },
  {
   "cell_type": "code",
   "execution_count": null,
   "id": "5ae054d4",
   "metadata": {},
   "outputs": [],
   "source": []
  },
  {
   "cell_type": "markdown",
   "id": "5021a962",
   "metadata": {},
   "source": [
    "# Tanh Activation Function"
   ]
  },
  {
   "cell_type": "code",
   "execution_count": null,
   "id": "9e39f9ac",
   "metadata": {},
   "outputs": [],
   "source": []
  },
  {
   "cell_type": "code",
   "execution_count": null,
   "id": "cd725f3b",
   "metadata": {},
   "outputs": [],
   "source": []
  }
 ],
 "metadata": {
  "kernelspec": {
   "display_name": ".venv",
   "language": "python",
   "name": "python3"
  },
  "language_info": {
   "codemirror_mode": {
    "name": "ipython",
    "version": 3
   },
   "file_extension": ".py",
   "mimetype": "text/x-python",
   "name": "python",
   "nbconvert_exporter": "python",
   "pygments_lexer": "ipython3",
   "version": "3.10.8"
  }
 },
 "nbformat": 4,
 "nbformat_minor": 5
}
