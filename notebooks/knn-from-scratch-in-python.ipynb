{
 "cells": [
  {
   "cell_type": "code",
   "execution_count": 1,
   "metadata": {
    "_cell_guid": "b1076dfc-b9ad-4769-8c92-a6c4dae69d19",
    "_uuid": "8f2839f25d086af736a60e9eeb907d3b93b6e0e5",
    "execution": {
     "iopub.execute_input": "2024-11-12T23:49:48.519710Z",
     "iopub.status.busy": "2024-11-12T23:49:48.519243Z",
     "iopub.status.idle": "2024-11-12T23:49:49.551762Z",
     "shell.execute_reply": "2024-11-12T23:49:49.550653Z",
     "shell.execute_reply.started": "2024-11-12T23:49:48.519661Z"
    },
    "trusted": true
   },
   "outputs": [],
   "source": [
    "# Imports\n",
    "import numpy as np\n",
    "import pandas as pd"
   ]
  },
  {
   "cell_type": "code",
   "execution_count": null,
   "metadata": {
    "execution": {
     "iopub.execute_input": "2024-11-12T23:52:14.823995Z",
     "iopub.status.busy": "2024-11-12T23:52:14.823557Z",
     "iopub.status.idle": "2024-11-12T23:52:14.845287Z",
     "shell.execute_reply": "2024-11-12T23:52:14.844288Z",
     "shell.execute_reply.started": "2024-11-12T23:52:14.823956Z"
    },
    "trusted": true
   },
   "outputs": [
    {
     "data": {
      "text/html": [
       "<div>\n",
       "<style scoped>\n",
       "    .dataframe tbody tr th:only-of-type {\n",
       "        vertical-align: middle;\n",
       "    }\n",
       "\n",
       "    .dataframe tbody tr th {\n",
       "        vertical-align: top;\n",
       "    }\n",
       "\n",
       "    .dataframe thead th {\n",
       "        text-align: right;\n",
       "    }\n",
       "</style>\n",
       "<table border=\"1\" class=\"dataframe\">\n",
       "  <thead>\n",
       "    <tr style=\"text-align: right;\">\n",
       "      <th></th>\n",
       "      <th>sepal_length</th>\n",
       "      <th>sepal_width</th>\n",
       "      <th>petal_length</th>\n",
       "      <th>petal_width</th>\n",
       "      <th>species</th>\n",
       "    </tr>\n",
       "  </thead>\n",
       "  <tbody>\n",
       "    <tr>\n",
       "      <th>0</th>\n",
       "      <td>5.1</td>\n",
       "      <td>3.5</td>\n",
       "      <td>1.4</td>\n",
       "      <td>0.2</td>\n",
       "      <td>setosa</td>\n",
       "    </tr>\n",
       "    <tr>\n",
       "      <th>1</th>\n",
       "      <td>4.9</td>\n",
       "      <td>3.0</td>\n",
       "      <td>1.4</td>\n",
       "      <td>0.2</td>\n",
       "      <td>setosa</td>\n",
       "    </tr>\n",
       "    <tr>\n",
       "      <th>2</th>\n",
       "      <td>4.7</td>\n",
       "      <td>3.2</td>\n",
       "      <td>1.3</td>\n",
       "      <td>0.2</td>\n",
       "      <td>setosa</td>\n",
       "    </tr>\n",
       "    <tr>\n",
       "      <th>3</th>\n",
       "      <td>4.6</td>\n",
       "      <td>3.1</td>\n",
       "      <td>1.5</td>\n",
       "      <td>0.2</td>\n",
       "      <td>setosa</td>\n",
       "    </tr>\n",
       "    <tr>\n",
       "      <th>4</th>\n",
       "      <td>5.0</td>\n",
       "      <td>3.6</td>\n",
       "      <td>1.4</td>\n",
       "      <td>0.2</td>\n",
       "      <td>setosa</td>\n",
       "    </tr>\n",
       "  </tbody>\n",
       "</table>\n",
       "</div>"
      ],
      "text/plain": [
       "   sepal_length  sepal_width  petal_length  petal_width species\n",
       "0           5.1          3.5           1.4          0.2  setosa\n",
       "1           4.9          3.0           1.4          0.2  setosa\n",
       "2           4.7          3.2           1.3          0.2  setosa\n",
       "3           4.6          3.1           1.5          0.2  setosa\n",
       "4           5.0          3.6           1.4          0.2  setosa"
      ]
     },
     "execution_count": 6,
     "metadata": {},
     "output_type": "execute_result"
    }
   ],
   "source": [
    "iris = pd.read_csv(\"../data/iris.csv\") #Load Data\n",
    "iris.head()"
   ]
  },
  {
   "cell_type": "code",
   "execution_count": 10,
   "metadata": {
    "execution": {
     "iopub.execute_input": "2024-11-13T00:04:18.718353Z",
     "iopub.status.busy": "2024-11-13T00:04:18.717291Z",
     "iopub.status.idle": "2024-11-13T00:04:18.725721Z",
     "shell.execute_reply": "2024-11-13T00:04:18.724669Z",
     "shell.execute_reply.started": "2024-11-13T00:04:18.718303Z"
    },
    "trusted": true
   },
   "outputs": [],
   "source": [
    "X = iris.iloc[:,:-1] #Set our training data\n",
    "\n",
    "y = iris.iloc[:,-1] #Set training labels"
   ]
  },
  {
   "cell_type": "markdown",
   "metadata": {},
   "source": [
    "### Using numpy"
   ]
  },
  {
   "cell_type": "code",
   "execution_count": 11,
   "metadata": {
    "execution": {
     "iopub.execute_input": "2024-11-13T00:04:19.412675Z",
     "iopub.status.busy": "2024-11-13T00:04:19.412214Z",
     "iopub.status.idle": "2024-11-13T00:04:19.421520Z",
     "shell.execute_reply": "2024-11-13T00:04:19.420445Z",
     "shell.execute_reply.started": "2024-11-13T00:04:19.412572Z"
    },
    "trusted": true
   },
   "outputs": [],
   "source": [
    "class KNN:\n",
    "    \n",
    "    def __init__(self, num_neighbors=1):\n",
    "        self.neighbors = num_neighbors\n",
    "    \n",
    "    def fit(self, x_train, y_train):\n",
    "        \"\"\"\n",
    "        Memorize training data\n",
    "        \"\"\"\n",
    "        self.x_train = x_train\n",
    "        self.y_train = y_train\n",
    "    \n",
    "    def predict(self, X):\n",
    "        \"\"\"\n",
    "        Predict labels\n",
    "        \"\"\"\n",
    "        predictions = []\n",
    "\n",
    "        for x in X:\n",
    "            prediction = self._predict(x)\n",
    "            predictions.append(prediction)\n",
    "        return np.array(predictions)\n",
    "        \n",
    "\n",
    "    def get_distance(self, x1, x2):\n",
    "        \"\"\"\n",
    "        Calculate distance between two examples\n",
    "        \"\"\"\n",
    "        return np.linalg.norm(x1 - x2)\n",
    "        \n",
    "    \n",
    "    def _predict(self, x):\n",
    "        \"\"\"\n",
    "        Find nearest neighbors and return relative majority label\n",
    "        \"\"\"\n",
    "        distances = []\n",
    "\n",
    "        for x_tr in self.x_train:\n",
    "            distance = self.get_distance(x, x_tr)\n",
    "            distances.append(distance)\n",
    "        distances = np.array(distances)\n",
    "\n",
    "        n_neighbors_idx = np.argsort(distances)[:self.neighbors]\n",
    "\n",
    "        labels = self.y_train[n_neighbors_idx]\n",
    "        labels = list(labels)\n",
    "\n",
    "        majority_label = max(labels, key=labels.count)\n",
    "        return majority_label"
   ]
  },
  {
   "cell_type": "code",
   "execution_count": 12,
   "metadata": {
    "execution": {
     "iopub.execute_input": "2024-11-13T00:04:19.755430Z",
     "iopub.status.busy": "2024-11-13T00:04:19.755030Z",
     "iopub.status.idle": "2024-11-13T00:04:19.762561Z",
     "shell.execute_reply": "2024-11-13T00:04:19.761489Z",
     "shell.execute_reply.started": "2024-11-13T00:04:19.755389Z"
    },
    "trusted": true
   },
   "outputs": [],
   "source": [
    "def train_test_split(X, y, random_state=42, test_size=0.2):\n",
    "\n",
    "    # Get number of samples\n",
    "    n_samples = X.shape[0]\n",
    "\n",
    "    # Set the seed for the random number generator\n",
    "    np.random.seed(random_state)\n",
    "\n",
    "    # Shuffle the indices\n",
    "    shuffled_indices = np.random.permutation(np.arange(n_samples))\n",
    "\n",
    "    # Determine the size of the test set\n",
    "    test_size = int(n_samples * test_size)\n",
    "\n",
    "    # Split the indices into test and train\n",
    "    test_indices = shuffled_indices[:test_size]\n",
    "    train_indices = shuffled_indices[test_size:]\n",
    "\n",
    "    # Split the features and target arrays into test and train\n",
    "    X_train, X_test = X[train_indices], X[test_indices]\n",
    "    y_train, y_test = y[train_indices], y[test_indices]\n",
    "\n",
    "    return X_train, X_test, y_train, y_test"
   ]
  },
  {
   "cell_type": "code",
   "execution_count": 13,
   "metadata": {
    "execution": {
     "iopub.execute_input": "2024-11-13T00:04:20.309986Z",
     "iopub.status.busy": "2024-11-13T00:04:20.309562Z",
     "iopub.status.idle": "2024-11-13T00:04:20.315916Z",
     "shell.execute_reply": "2024-11-13T00:04:20.314946Z",
     "shell.execute_reply.started": "2024-11-13T00:04:20.309945Z"
    },
    "trusted": true
   },
   "outputs": [],
   "source": [
    "X_train, X_test, y_train, y_test = train_test_split(X.values, y.values, test_size = 0.2, random_state=42) #split the  data into traing and validating"
   ]
  },
  {
   "cell_type": "code",
   "execution_count": 14,
   "metadata": {
    "execution": {
     "iopub.execute_input": "2024-11-13T00:05:03.627554Z",
     "iopub.status.busy": "2024-11-13T00:05:03.626577Z",
     "iopub.status.idle": "2024-11-13T00:05:03.631742Z",
     "shell.execute_reply": "2024-11-13T00:05:03.630749Z",
     "shell.execute_reply.started": "2024-11-13T00:05:03.627509Z"
    },
    "trusted": true
   },
   "outputs": [],
   "source": [
    "model = KNN(7)\n",
    "model.fit(X_train, y_train)"
   ]
  },
  {
   "cell_type": "code",
   "execution_count": 15,
   "metadata": {
    "execution": {
     "iopub.execute_input": "2024-11-13T00:05:17.690158Z",
     "iopub.status.busy": "2024-11-13T00:05:17.689499Z",
     "iopub.status.idle": "2024-11-13T00:05:17.695469Z",
     "shell.execute_reply": "2024-11-13T00:05:17.694452Z",
     "shell.execute_reply.started": "2024-11-13T00:05:17.690119Z"
    },
    "trusted": true
   },
   "outputs": [],
   "source": [
    "def compute_accuracy(y_true, y_pred):\n",
    "    \"\"\"\n",
    "    Computes the accuracy of a classification model.\n",
    "\n",
    "    Parameters:\n",
    "    y_true (numpy array): A numpy array of true labels for each data point.\n",
    "    y_pred (numpy array): A numpy array of predicted labels for each data point.\n",
    "\n",
    "    Returns:\n",
    "    float: The accuracy of the model, expressed as a percentage.\n",
    "    \"\"\"\n",
    "    y_true = y_true.flatten()\n",
    "    total_samples = len(y_true)\n",
    "    correct_predictions = np.sum(y_true == y_pred)\n",
    "    return (correct_predictions / total_samples) "
   ]
  },
  {
   "cell_type": "code",
   "execution_count": 16,
   "metadata": {
    "execution": {
     "iopub.execute_input": "2024-11-13T00:05:25.513044Z",
     "iopub.status.busy": "2024-11-13T00:05:25.512628Z",
     "iopub.status.idle": "2024-11-13T00:05:25.540180Z",
     "shell.execute_reply": "2024-11-13T00:05:25.539131Z",
     "shell.execute_reply.started": "2024-11-13T00:05:25.513005Z"
    },
    "trusted": true
   },
   "outputs": [
    {
     "name": "stdout",
     "output_type": "stream",
     "text": [
      " our model got accuracy score of : 0.9666666666666667\n"
     ]
    }
   ],
   "source": [
    "predictions = model.predict(X_test)\n",
    "accuracy = compute_accuracy(y_test, predictions)\n",
    "print(f\" our model got accuracy score of : {accuracy}\")    "
   ]
  },
  {
   "cell_type": "code",
   "execution_count": null,
   "metadata": {
    "trusted": true
   },
   "outputs": [],
   "source": []
  }
 ],
 "metadata": {
  "kernelspec": {
   "display_name": "Python 3",
   "language": "python",
   "name": "python3"
  },
  "language_info": {
   "codemirror_mode": {
    "name": "ipython",
    "version": 3
   },
   "file_extension": ".py",
   "mimetype": "text/x-python",
   "name": "python",
   "nbconvert_exporter": "python",
   "pygments_lexer": "ipython3",
   "version": "3.10.14"
  }
 },
 "nbformat": 4,
 "nbformat_minor": 4
}
