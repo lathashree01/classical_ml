{
 "cells": [
  {
   "cell_type": "markdown",
   "metadata": {},
   "source": [
    "# Linear regression"
   ]
  },
  {
   "cell_type": "code",
   "execution_count": 3,
   "metadata": {
    "_cell_guid": "b1076dfc-b9ad-4769-8c92-a6c4dae69d19",
    "_uuid": "8f2839f25d086af736a60e9eeb907d3b93b6e0e5",
    "execution": {
     "iopub.execute_input": "2024-11-10T15:46:16.208033Z",
     "iopub.status.busy": "2024-11-10T15:46:16.207575Z",
     "iopub.status.idle": "2024-11-10T15:46:16.932057Z",
     "shell.execute_reply": "2024-11-10T15:46:16.930696Z",
     "shell.execute_reply.started": "2024-11-10T15:46:16.207989Z"
    },
    "trusted": true
   },
   "outputs": [],
   "source": [
    "# Imports\n",
    "import numpy as np\n",
    "import matplotlib.pyplot as plt\n",
    "from sklearn.datasets import make_regression"
   ]
  },
  {
   "cell_type": "markdown",
   "metadata": {},
   "source": [
    "## Dummy data for Linear regression"
   ]
  },
  {
   "cell_type": "code",
   "execution_count": 4,
   "metadata": {
    "execution": {
     "iopub.execute_input": "2024-11-10T15:46:18.766772Z",
     "iopub.status.busy": "2024-11-10T15:46:18.766181Z",
     "iopub.status.idle": "2024-11-10T15:46:19.095232Z",
     "shell.execute_reply": "2024-11-10T15:46:19.094019Z",
     "shell.execute_reply.started": "2024-11-10T15:46:18.766724Z"
    },
    "trusted": true
   },
   "outputs": [
    {
     "data": {
      "image/png": "[encoded data removed]",
      "text/plain": [
       "<Figure size 800x500 with 1 Axes>"
      ]
     },
     "metadata": {},
     "output_type": "display_data"
    }
   ],
   "source": [
    "# Generate a regression problem\n",
    "X, y = make_regression(\n",
    "    n_samples=100,\n",
    "    n_features=2,\n",
    "    n_informative=2,\n",
    "    noise = 10,\n",
    "    random_state=25\n",
    "    )\n",
    "\n",
    "# Visualize feature at index 1 vs target\n",
    "plt.subplots(figsize=(8, 5))\n",
    "plt.scatter(X[:, 1], y, marker='o')\n",
    "plt.xlabel(\"Feature at Index 1\")\n",
    "plt.ylabel(\"Target\")\n",
    "plt.show()"
   ]
  },
  {
   "cell_type": "markdown",
   "metadata": {},
   "source": [
    "### Linear Regression with Normal Equation"
   ]
  },
  {
   "cell_type": "code",
   "execution_count": 5,
   "metadata": {
    "execution": {
     "iopub.execute_input": "2024-11-10T15:46:19.097492Z",
     "iopub.status.busy": "2024-11-10T15:46:19.097088Z",
     "iopub.status.idle": "2024-11-10T15:46:19.108031Z",
     "shell.execute_reply": "2024-11-10T15:46:19.106339Z",
     "shell.execute_reply.started": "2024-11-10T15:46:19.097451Z"
    },
    "trusted": true
   },
   "outputs": [
    {
     "name": "stdout",
     "output_type": "stream",
     "text": [
      "Intercept: 0.35921242677977794\n",
      "Coefficients: [6.129199175400593, 96.44309685893134]\n"
     ]
    }
   ],
   "source": [
    "# adds x0 = 1 to each instance\n",
    "X_b = np.concatenate([np.ones((len(X), 1)), X], axis=1)\n",
    "\n",
    "# calculate normal equation\n",
    "theta_best = np.linalg.inv(X_b.T.dot(X_b)).dot(X_b.T).dot(y)\n",
    "\n",
    "# best values for theta\n",
    "intercept, *coef = theta_best\n",
    "print(f\"Intercept: {intercept}\\n\\\n",
    "Coefficients: {coef}\")"
   ]
  },
  {
   "cell_type": "code",
   "execution_count": 6,
   "metadata": {
    "execution": {
     "iopub.execute_input": "2024-11-10T15:46:19.192047Z",
     "iopub.status.busy": "2024-11-10T15:46:19.190872Z",
     "iopub.status.idle": "2024-11-10T15:46:19.206092Z",
     "shell.execute_reply": "2024-11-10T15:46:19.203907Z",
     "shell.execute_reply.started": "2024-11-10T15:46:19.191968Z"
    },
    "trusted": true
   },
   "outputs": [
    {
     "name": "stdout",
     "output_type": "stream",
     "text": [
      "Prediction: [12.21158829]\n"
     ]
    }
   ],
   "source": [
    "# making a new sample\n",
    "new_sample = np.array([[-2, 0.25]])\n",
    "# adding a bias term to the instance\n",
    "new_sample_b = np.concatenate([np.ones((len(new_sample), 1)), new_sample], axis=1)\n",
    "# predicting the value of our new sample\n",
    "new_sample_pred = new_sample_b.dot(theta_best)\n",
    "print(f\"Prediction: {new_sample_pred}\")\n",
    "Prediction: [12.21158829]"
   ]
  },
  {
   "cell_type": "markdown",
   "metadata": {},
   "source": [
    "### Comparing my implementation of LR with scikit-learn's"
   ]
  },
  {
   "cell_type": "code",
   "execution_count": 7,
   "metadata": {
    "execution": {
     "iopub.execute_input": "2024-11-10T15:46:19.912819Z",
     "iopub.status.busy": "2024-11-10T15:46:19.911822Z",
     "iopub.status.idle": "2024-11-10T15:46:20.146401Z",
     "shell.execute_reply": "2024-11-10T15:46:20.145145Z",
     "shell.execute_reply.started": "2024-11-10T15:46:19.912749Z"
    },
    "trusted": true
   },
   "outputs": [
    {
     "name": "stdout",
     "output_type": "stream",
     "text": [
      "Intercept: 0.3592124267797807\n",
      "Coefficients: [ 6.12919918 96.44309686]\n",
      "Prediction: [12.21158829]\n"
     ]
    }
   ],
   "source": [
    "from sklearn.linear_model import LinearRegression\n",
    "\n",
    "lr = LinearRegression()\n",
    "lr.fit(X, y)\n",
    "\n",
    "print(f\"Intercept: {lr.intercept_}\\n\\\n",
    "Coefficients: {lr.coef_}\")\n",
    "print(f\"Prediction: {lr.predict(new_sample)}\")"
   ]
  },
  {
   "cell_type": "markdown",
   "metadata": {},
   "source": [
    "### My implementation of Linear Regression with Gradient Descent"
   ]
  },
  {
   "cell_type": "code",
   "execution_count": 37,
   "metadata": {
    "execution": {
     "iopub.execute_input": "2024-11-10T16:02:51.425282Z",
     "iopub.status.busy": "2024-11-10T16:02:51.424843Z",
     "iopub.status.idle": "2024-11-10T16:02:51.434275Z",
     "shell.execute_reply": "2024-11-10T16:02:51.432841Z",
     "shell.execute_reply.started": "2024-11-10T16:02:51.425242Z"
    },
    "trusted": true
   },
   "outputs": [],
   "source": [
    "def linear_regression_gradient_descent(X: np.ndarray, y: np.ndarray, alpha: float, num_iterations: int) -> np.ndarray:\n",
    "    m, n = X.shape\n",
    "    X_b = np.concatenate([np.ones((len(X), 1)), X], axis=1)\n",
    "    \n",
    "    y = y.reshape(-1,1)\n",
    "    \n",
    "    theta = np.zeros((n+1, 1))\n",
    "    \n",
    "    for _ in range(num_iterations):\n",
    "        predictions = X_b @ theta\n",
    "        gradient = (1/m) * X_b.T @ (predictions - y)\n",
    "        theta = theta - alpha * gradient\n",
    "\n",
    "    theta = np.round(theta.flatten(), 4)\n",
    "    return theta"
   ]
  },
  {
   "cell_type": "code",
   "execution_count": 41,
   "metadata": {
    "execution": {
     "iopub.execute_input": "2024-11-10T16:03:46.333665Z",
     "iopub.status.busy": "2024-11-10T16:03:46.333162Z",
     "iopub.status.idle": "2024-11-10T16:03:46.357218Z",
     "shell.execute_reply": "2024-11-10T16:03:46.355747Z",
     "shell.execute_reply.started": "2024-11-10T16:03:46.333618Z"
    },
    "trusted": true
   },
   "outputs": [
    {
     "name": "stdout",
     "output_type": "stream",
     "text": [
      "Bias/Intercept: 0.031\n",
      "Coefficients: [0.2487, 0.8242]\n"
     ]
    }
   ],
   "source": [
    "X = np.array([[1, 1], [1, 2], [2, 3]])\n",
    "y = np.array([1, 2, 3])\n",
    "alpha = 0.01\n",
    "iterations = 1000\n",
    "\n",
    "result = linear_regression_gradient_descent(X, y, alpha, num_iterations)\n",
    "\n",
    "intercept, *coef = result\n",
    "print(f\"Bias/Intercept: {intercept}\\n\\\n",
    "Coefficients: {coef}\")\n"
   ]
  },
  {
   "cell_type": "code",
   "execution_count": null,
   "metadata": {
    "trusted": true
   },
   "outputs": [],
   "source": []
  }
 ],
 "metadata": {
  "kernelspec": {
   "display_name": "Python 3",
   "language": "python",
   "name": "python3"
  },
  "language_info": {
   "codemirror_mode": {
    "name": "ipython",
    "version": 3
   },
   "file_extension": ".py",
   "mimetype": "text/x-python",
   "name": "python",
   "nbconvert_exporter": "python",
   "pygments_lexer": "ipython3",
   "version": "3.10.14"
  }
 },
 "nbformat": 4,
 "nbformat_minor": 4
}
