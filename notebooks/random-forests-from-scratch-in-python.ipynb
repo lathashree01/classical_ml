{
 "cells": [
  {
   "cell_type": "markdown",
   "id": "bf78bf7b",
   "metadata": {
    "papermill": {
     "duration": 0.004587,
     "end_time": "2024-11-04T23:41:53.473611",
     "exception": false,
     "start_time": "2024-11-04T23:41:53.469024",
     "status": "completed"
    },
    "tags": []
   },
   "source": [
    "## Random Forests"
   ]
  },
  {
   "cell_type": "markdown",
   "id": "69ecd301",
   "metadata": {
    "papermill": {
     "duration": 0.004432,
     "end_time": "2024-11-04T23:41:53.482791",
     "exception": false,
     "start_time": "2024-11-04T23:41:53.478359",
     "status": "completed"
    },
    "tags": []
   },
   "source": [
    "#### What is a Random Forest?\n",
    "A Random Forest is an ensemble learning method that operates by constructing multiple decision trees during training and outputting the class that is the mode of the classes (for classification) or mean prediction (for regression) of the individual trees.\n",
    "\n",
    "Bootstrapping:\n",
    "* Each individual decision tree will be constructed on a bootstrapped subset of our data. If the dataset has n observations bootstrapping is the process of sampling n points with replacement which means that some obsverations in our data set will be selected more than once and some won't be selected at all. When we calculate that the probability an observation is omitted from our bootstrapped dataset is approximately 1/3\n",
    "* Out-Of-Bag: The OOB samples are the ≈1/3 observations that were not selected to build a parcticular tree. \n",
    "\n",
    "In addition to bootstrapping, Random Forests introduce extra randomness when growing trees:\n",
    "* At each node split, only a random subset of features is considered. This process is called \"feature bagging\" or \"random subspace method\"\n",
    "\n",
    "\n",
    "#### Prediction using Random Forests:\n",
    "For classification: Each tree \"votes\" for a class, and the majority vote wins\n",
    "For regression: The average prediction of all trees is used"
   ]
  },
  {
   "cell_type": "markdown",
   "id": "aac84999",
   "metadata": {
    "papermill": {
     "duration": 0.004623,
     "end_time": "2024-11-04T23:41:53.492110",
     "exception": false,
     "start_time": "2024-11-04T23:41:53.487487",
     "status": "completed"
    },
    "tags": []
   },
   "source": [
    "### Implementation"
   ]
  },
  {
   "cell_type": "code",
   "execution_count": 2,
   "id": "2ab1efdc",
   "metadata": {
    "execution": {
     "iopub.execute_input": "2024-11-04T23:41:53.503383Z",
     "iopub.status.busy": "2024-11-04T23:41:53.502968Z",
     "iopub.status.idle": "2024-11-04T23:41:54.549893Z",
     "shell.execute_reply": "2024-11-04T23:41:54.548861Z"
    },
    "papermill": {
     "duration": 1.055695,
     "end_time": "2024-11-04T23:41:54.552484",
     "exception": false,
     "start_time": "2024-11-04T23:41:53.496789",
     "status": "completed"
    },
    "tags": []
   },
   "outputs": [],
   "source": [
    "# Imports\n",
    "import random\n",
    "import pandas as pd\n",
    "import numpy as np"
   ]
  },
  {
   "cell_type": "code",
   "execution_count": 3,
   "id": "423eab73",
   "metadata": {
    "execution": {
     "iopub.execute_input": "2024-11-04T23:41:54.564060Z",
     "iopub.status.busy": "2024-11-04T23:41:54.563468Z",
     "iopub.status.idle": "2024-11-04T23:41:54.612950Z",
     "shell.execute_reply": "2024-11-04T23:41:54.611658Z"
    },
    "papermill": {
     "duration": 0.058165,
     "end_time": "2024-11-04T23:41:54.615500",
     "exception": false,
     "start_time": "2024-11-04T23:41:54.557335",
     "status": "completed"
    },
    "tags": []
   },
   "outputs": [
    {
     "data": {
      "text/html": [
       "<div>\n",
       "<style scoped>\n",
       "    .dataframe tbody tr th:only-of-type {\n",
       "        vertical-align: middle;\n",
       "    }\n",
       "\n",
       "    .dataframe tbody tr th {\n",
       "        vertical-align: top;\n",
       "    }\n",
       "\n",
       "    .dataframe thead th {\n",
       "        text-align: right;\n",
       "    }\n",
       "</style>\n",
       "<table border=\"1\" class=\"dataframe\">\n",
       "  <thead>\n",
       "    <tr style=\"text-align: right;\">\n",
       "      <th></th>\n",
       "      <th>PassengerId</th>\n",
       "      <th>Survived</th>\n",
       "      <th>Pclass</th>\n",
       "      <th>Name</th>\n",
       "      <th>Sex</th>\n",
       "      <th>Age</th>\n",
       "      <th>SibSp</th>\n",
       "      <th>Parch</th>\n",
       "      <th>Ticket</th>\n",
       "      <th>Fare</th>\n",
       "      <th>Cabin</th>\n",
       "      <th>Embarked</th>\n",
       "    </tr>\n",
       "  </thead>\n",
       "  <tbody>\n",
       "    <tr>\n",
       "      <th>0</th>\n",
       "      <td>1</td>\n",
       "      <td>0</td>\n",
       "      <td>3</td>\n",
       "      <td>Braund, Mr. Owen Harris</td>\n",
       "      <td>male</td>\n",
       "      <td>22.0</td>\n",
       "      <td>1</td>\n",
       "      <td>0</td>\n",
       "      <td>A/5 21171</td>\n",
       "      <td>7.2500</td>\n",
       "      <td>NaN</td>\n",
       "      <td>S</td>\n",
       "    </tr>\n",
       "    <tr>\n",
       "      <th>1</th>\n",
       "      <td>2</td>\n",
       "      <td>1</td>\n",
       "      <td>1</td>\n",
       "      <td>Cumings, Mrs. John Bradley (Florence Briggs Th...</td>\n",
       "      <td>female</td>\n",
       "      <td>38.0</td>\n",
       "      <td>1</td>\n",
       "      <td>0</td>\n",
       "      <td>PC 17599</td>\n",
       "      <td>71.2833</td>\n",
       "      <td>C85</td>\n",
       "      <td>C</td>\n",
       "    </tr>\n",
       "    <tr>\n",
       "      <th>2</th>\n",
       "      <td>3</td>\n",
       "      <td>1</td>\n",
       "      <td>3</td>\n",
       "      <td>Heikkinen, Miss. Laina</td>\n",
       "      <td>female</td>\n",
       "      <td>26.0</td>\n",
       "      <td>0</td>\n",
       "      <td>0</td>\n",
       "      <td>STON/O2. 3101282</td>\n",
       "      <td>7.9250</td>\n",
       "      <td>NaN</td>\n",
       "      <td>S</td>\n",
       "    </tr>\n",
       "    <tr>\n",
       "      <th>3</th>\n",
       "      <td>4</td>\n",
       "      <td>1</td>\n",
       "      <td>1</td>\n",
       "      <td>Futrelle, Mrs. Jacques Heath (Lily May Peel)</td>\n",
       "      <td>female</td>\n",
       "      <td>35.0</td>\n",
       "      <td>1</td>\n",
       "      <td>0</td>\n",
       "      <td>113803</td>\n",
       "      <td>53.1000</td>\n",
       "      <td>C123</td>\n",
       "      <td>S</td>\n",
       "    </tr>\n",
       "    <tr>\n",
       "      <th>4</th>\n",
       "      <td>5</td>\n",
       "      <td>0</td>\n",
       "      <td>3</td>\n",
       "      <td>Allen, Mr. William Henry</td>\n",
       "      <td>male</td>\n",
       "      <td>35.0</td>\n",
       "      <td>0</td>\n",
       "      <td>0</td>\n",
       "      <td>373450</td>\n",
       "      <td>8.0500</td>\n",
       "      <td>NaN</td>\n",
       "      <td>S</td>\n",
       "    </tr>\n",
       "  </tbody>\n",
       "</table>\n",
       "</div>"
      ],
      "text/plain": [
       "   PassengerId  Survived  Pclass  \\\n",
       "0            1         0       3   \n",
       "1            2         1       1   \n",
       "2            3         1       3   \n",
       "3            4         1       1   \n",
       "4            5         0       3   \n",
       "\n",
       "                                                Name     Sex   Age  SibSp  \\\n",
       "0                            Braund, Mr. Owen Harris    male  22.0      1   \n",
       "1  Cumings, Mrs. John Bradley (Florence Briggs Th...  female  38.0      1   \n",
       "2                             Heikkinen, Miss. Laina  female  26.0      0   \n",
       "3       Futrelle, Mrs. Jacques Heath (Lily May Peel)  female  35.0      1   \n",
       "4                           Allen, Mr. William Henry    male  35.0      0   \n",
       "\n",
       "   Parch            Ticket     Fare Cabin Embarked  \n",
       "0      0         A/5 21171   7.2500   NaN        S  \n",
       "1      0          PC 17599  71.2833   C85        C  \n",
       "2      0  STON/O2. 3101282   7.9250   NaN        S  \n",
       "3      0            113803  53.1000  C123        S  \n",
       "4      0            373450   8.0500   NaN        S  "
      ]
     },
     "execution_count": 3,
     "metadata": {},
     "output_type": "execute_result"
    }
   ],
   "source": [
    "df = pd.read_csv('/kaggle/input/titanic/train.csv')\n",
    "df.head()"
   ]
  },
  {
   "cell_type": "code",
   "execution_count": 4,
   "id": "14acfaab",
   "metadata": {
    "execution": {
     "iopub.execute_input": "2024-11-04T23:41:54.628069Z",
     "iopub.status.busy": "2024-11-04T23:41:54.627660Z",
     "iopub.status.idle": "2024-11-04T23:41:54.644002Z",
     "shell.execute_reply": "2024-11-04T23:41:54.642996Z"
    },
    "papermill": {
     "duration": 0.025953,
     "end_time": "2024-11-04T23:41:54.646806",
     "exception": false,
     "start_time": "2024-11-04T23:41:54.620853",
     "status": "completed"
    },
    "tags": []
   },
   "outputs": [],
   "source": [
    "# Handle missing values\n",
    "df.loc[df['Age'].isnull(),'Age'] = np.round(df['Age'].mean())\n",
    "df.loc[df['Embarked'].isnull(),'Embarked'] = df['Embarked'].value_counts().index[0]"
   ]
  },
  {
   "cell_type": "code",
   "execution_count": 5,
   "id": "4812ae25",
   "metadata": {
    "execution": {
     "iopub.execute_input": "2024-11-04T23:41:54.658920Z",
     "iopub.status.busy": "2024-11-04T23:41:54.658502Z",
     "iopub.status.idle": "2024-11-04T23:41:54.677182Z",
     "shell.execute_reply": "2024-11-04T23:41:54.675947Z"
    },
    "papermill": {
     "duration": 0.028063,
     "end_time": "2024-11-04T23:41:54.680135",
     "exception": false,
     "start_time": "2024-11-04T23:41:54.652072",
     "status": "completed"
    },
    "tags": []
   },
   "outputs": [],
   "source": [
    "# Train, test splits\n",
    "features = ['Pclass','Sex','Age','SibSp','Parch', 'Fare', 'Embarked']\n",
    "nb_train = int(np.floor(0.9 * len(df)))\n",
    "df = df.sample(frac=1, random_state=217)\n",
    "X_train = df[features][:nb_train]\n",
    "y_train = df['Survived'][:nb_train].values\n",
    "X_test = df[features][nb_train:]\n",
    "y_test = df['Survived'][nb_train:].values"
   ]
  },
  {
   "cell_type": "markdown",
   "id": "1e1cad3b",
   "metadata": {
    "papermill": {
     "duration": 0.005007,
     "end_time": "2024-11-04T23:41:54.690507",
     "exception": false,
     "start_time": "2024-11-04T23:41:54.685500",
     "status": "completed"
    },
    "tags": []
   },
   "source": [
    "### How to build decision tree\n",
    "There are number of ways to build decision trees, most commonly used ones are Entropy, Classification Error, and Gini index.\n",
    "\n",
    "### Entropy\n",
    "-  a measurement of uncertainty (sometimes called impurity)\n",
    "-  Certainity: Entropy is minimised when all samples in the node belong to the same class \n",
    "-  Uncertainity: Entropy is maximised when we have uniform distribution\n",
    "  \n",
    "### Information Gain\n",
    "- Information gain measures how much information we gained when splitting a node at a particular value.\n",
    "\n",
    "\n",
    "### Goal: Minimise the entropy and inturn maximise the information gain"
   ]
  },
  {
   "cell_type": "code",
   "execution_count": 6,
   "id": "8d764e9d",
   "metadata": {
    "execution": {
     "iopub.execute_input": "2024-11-04T23:41:54.703171Z",
     "iopub.status.busy": "2024-11-04T23:41:54.702282Z",
     "iopub.status.idle": "2024-11-04T23:41:54.712132Z",
     "shell.execute_reply": "2024-11-04T23:41:54.711076Z"
    },
    "papermill": {
     "duration": 0.018812,
     "end_time": "2024-11-04T23:41:54.714549",
     "exception": false,
     "start_time": "2024-11-04T23:41:54.695737",
     "status": "completed"
    },
    "tags": []
   },
   "outputs": [],
   "source": [
    "def entropy(p):\n",
    "    if p == 0:\n",
    "        return 0\n",
    "    elif p == 1:\n",
    "        return 0\n",
    "    else:\n",
    "        return -(p * np.log2(p) + (1-p) * np.log2(1-p))\n",
    "\n",
    "def information_gain(left_subtree, right_subtree):\n",
    "    parent = left_subtree + right_subtree\n",
    "    p_parent = parent.count(1) /len(parent) if len(parent) > 0 else 0\n",
    "    p_left = left_subtree.count(1) / len(left_subtree) if len(left_subtree) > 0 else 0\n",
    "    p_right = right_subtree.count(1) / len(right_subtree) if len(right_subtree) > 0 else 0\n",
    "    IG_p = entropy(p_parent)\n",
    "    IG_left = entropy(p_left)\n",
    "    IG_right = entropy(p_right)\n",
    "    return IG_p - len(left_subtree)/len(parent) * IG_left - len(right_subtree)/ len(parent) * IG_right"
   ]
  },
  {
   "cell_type": "code",
   "execution_count": 7,
   "id": "1fe95506",
   "metadata": {
    "execution": {
     "iopub.execute_input": "2024-11-04T23:41:54.726808Z",
     "iopub.status.busy": "2024-11-04T23:41:54.726346Z",
     "iopub.status.idle": "2024-11-04T23:41:54.735951Z",
     "shell.execute_reply": "2024-11-04T23:41:54.734880Z"
    },
    "papermill": {
     "duration": 0.018668,
     "end_time": "2024-11-04T23:41:54.738468",
     "exception": false,
     "start_time": "2024-11-04T23:41:54.719800",
     "status": "completed"
    },
    "tags": []
   },
   "outputs": [],
   "source": [
    "def draw_bootstrap(x_train, y_train):\n",
    "    bootstrap_ind = list(np.random.choice(range(len(x_train)),len(x_train), replacement=True))\n",
    "    oob_ind = [i for i in range(len(x_train)) if i not in bootstrap_ind]\n",
    "    x_bootstrap = x_train.iloc[bootstrap_ind].values\n",
    "    y_bootstrap = y_train[bootstrap_ind]\n",
    "    x_oob = x_train.iloc[oob_ind].values\n",
    "    y_oob = y_train[oob_ind]\n",
    "    return x_bootstrap, y_bootstrap, x_oob, y_oob\n",
    "\n",
    "def oob_score(tree, x_test, y_test):\n",
    "    miss_label = 0\n",
    "    for i in range(len(x_test)):\n",
    "        pred = predict_tree(tree, x_test[i])\n",
    "        if pred != y_test[i]:            \n",
    "            miss_label +=1\n",
    "    return miss_label/len(x_test)"
   ]
  },
  {
   "cell_type": "code",
   "execution_count": null,
   "id": "1d8b4d91",
   "metadata": {
    "papermill": {
     "duration": 0.004714,
     "end_time": "2024-11-04T23:41:54.749228",
     "exception": false,
     "start_time": "2024-11-04T23:41:54.744514",
     "status": "completed"
    },
    "tags": []
   },
   "outputs": [],
   "source": []
  },
  {
   "cell_type": "code",
   "execution_count": null,
   "id": "5e0df608",
   "metadata": {
    "papermill": {
     "duration": 0.004717,
     "end_time": "2024-11-04T23:41:54.758899",
     "exception": false,
     "start_time": "2024-11-04T23:41:54.754182",
     "status": "completed"
    },
    "tags": []
   },
   "outputs": [],
   "source": []
  }
 ],
 "metadata": {
  "kaggle": {
   "accelerator": "none",
   "dataSources": [
    {
     "databundleVersionId": 26502,
     "sourceId": 3136,
     "sourceType": "competition"
    }
   ],
   "dockerImageVersionId": 30786,
   "isGpuEnabled": false,
   "isInternetEnabled": true,
   "language": "python",
   "sourceType": "notebook"
  },
  "kernelspec": {
   "display_name": "Python 3",
   "language": "python",
   "name": "python3"
  },
  "language_info": {
   "codemirror_mode": {
    "name": "ipython",
    "version": 3
   },
   "file_extension": ".py",
   "mimetype": "text/x-python",
   "name": "python",
   "nbconvert_exporter": "python",
   "pygments_lexer": "ipython3",
   "version": "3.10.14"
  },
  "papermill": {
   "default_parameters": {},
   "duration": 5.191522,
   "end_time": "2024-11-04T23:41:55.286664",
   "environment_variables": {},
   "exception": null,
   "input_path": "__notebook__.ipynb",
   "output_path": "__notebook__.ipynb",
   "parameters": {},
   "start_time": "2024-11-04T23:41:50.095142",
   "version": "2.6.0"
  }
 },
 "nbformat": 4,
 "nbformat_minor": 5
}
