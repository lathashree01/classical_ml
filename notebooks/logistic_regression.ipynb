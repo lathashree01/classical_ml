{
 "cells": [
  {
   "cell_type": "markdown",
   "id": "2bcae3fd",
   "metadata": {},
   "source": [
    "# Logistic Regression\n",
    "\n",
    "- Supervised learning algorithm\n",
    "- Used for binary classification problems"
   ]
  },
  {
   "cell_type": "code",
   "execution_count": 2,
   "id": "5662a45f",
   "metadata": {},
   "outputs": [],
   "source": [
    "import numpy as np"
   ]
  },
  {
   "cell_type": "code",
   "execution_count": 15,
   "id": "20ad02ac",
   "metadata": {},
   "outputs": [],
   "source": [
    "def bce_loss(y_true, y_pred):\n",
    "    \"\"\"\n",
    "    Add a small number epsilon to values while taking log, helps edge cases.\n",
    "    \"\"\"\n",
    "    epsilon = 1e-9\n",
    "    y1 = y_true * np.log(y_pred+epsilon)\n",
    "    y2 = (1-y_true) * np.log(1-y_pred+epsilon)\n",
    "    return -np.sum(y1+y2)\n",
    "\n",
    "def sigmoid(x):\n",
    "    return 1/(1+np.exp(-x))\n",
    "\n",
    "def train_logreg(X: np.ndarray, y: np.ndarray, learning_rate: float, iterations: int):\n",
    "    \"\"\"\n",
    "    Gradient-descent training algorithm for logistic regression, optimizing parameters with Binary Cross Entropy loss.\n",
    "    \"\"\"\n",
    "    loss_vals = []\n",
    "    n, d = X.shape\n",
    "    X_aug = np.hstack([np.ones((n, 1)), X])\n",
    "    weights = np.zeros(d + 1)\n",
    "\n",
    "    for i in range(iterations):\n",
    "        z = X_aug @ weights\n",
    "        preds = sigmoid(z)\n",
    "\n",
    "        loss = bce_loss(y, preds)\n",
    "        loss_vals.append(round(loss, 4))\n",
    "\n",
    "        gradient = X_aug.T @ (preds - y)\n",
    "        weights -= learning_rate * gradient\n",
    "\n",
    "    return np.round(weights, 4).tolist(), loss_vals\n"
   ]
  },
  {
   "cell_type": "code",
   "execution_count": 16,
   "id": "88682155",
   "metadata": {},
   "outputs": [
    {
     "name": "stdout",
     "output_type": "stream",
     "text": [
      "([-0.0097, 0.0286, 0.015, 0.0135, 0.0316], [np.float64(6.9315), np.float64(6.9075), np.float64(6.8837), np.float64(6.8601), np.float64(6.8367), np.float64(6.8134), np.float64(6.7904), np.float64(6.7675), np.float64(6.7448), np.float64(6.7223)])\n"
     ]
    }
   ],
   "source": [
    "print(train_logreg(np.array([[0.7674, -0.2341, -0.2341, 1.5792], [-1.4123, 0.3142, -1.0128, -0.9080], [-0.4657, 0.5425, -0.4694, -0.4634], [-0.5622, -1.9132, 0.2419, -1.7249], [-1.4247, -0.2257, 1.4656, 0.0675], [1.8522, -0.2916, -0.6006, -0.6017], [0.3756, 0.1109, -0.5443, -1.1509], [0.1968, -1.9596, 0.2088, -1.3281], [1.5230, -0.1382, 0.4967, 0.6476], [-1.2208, -1.0577, -0.0134, 0.8225]]), np.array([1, 0, 0, 0, 1, 1, 0, 0, 1, 0]), 0.001, 10))"
   ]
  },
  {
   "cell_type": "code",
   "execution_count": 12,
   "id": "f673e17d",
   "metadata": {},
   "outputs": [
    {
     "data": {
      "text/plain": [
       "[0.0, 0.0]"
      ]
     },
     "execution_count": 12,
     "metadata": {},
     "output_type": "execute_result"
    }
   ],
   "source": [
    "arr.tolist()"
   ]
  },
  {
   "cell_type": "code",
   "execution_count": null,
   "id": "3f8e4f9e",
   "metadata": {},
   "outputs": [],
   "source": []
  }
 ],
 "metadata": {
  "kernelspec": {
   "display_name": ".venv",
   "language": "python",
   "name": "python3"
  },
  "language_info": {
   "codemirror_mode": {
    "name": "ipython",
    "version": 3
   },
   "file_extension": ".py",
   "mimetype": "text/x-python",
   "name": "python",
   "nbconvert_exporter": "python",
   "pygments_lexer": "ipython3",
   "version": "3.10.8"
  }
 },
 "nbformat": 4,
 "nbformat_minor": 5
}
